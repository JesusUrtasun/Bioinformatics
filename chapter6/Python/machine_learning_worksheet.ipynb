{
 "cells": [
  {
   "cell_type": "markdown",
   "metadata": {},
   "source": [
    "## Worksheet\n",
    "\n",
    "These questions will hopefully be pretty gentle and are for the most part entirely subjective. "
   ]
  },
  {
   "cell_type": "markdown",
   "metadata": {},
   "source": [
    "### Question 1 \n",
    "\n",
    "Take the `heart_disease.csv` file from the github repository and read it into a dataframe. Visualise some of the different variables being measured - a description of the field columns can be found [here](https://archive.ics.uci.edu/ml/datasets/Heart+Disease) - you will notice this is a subset of the original data. You might want to have a look at the pandas crosstab function for barplots with good examples [here](https://www.kaggle.com/cdabakoglu/heart-disease-classifications-machine-learning) - this will hopefully make plotting a little easier! "
   ]
  },
  {
   "cell_type": "markdown",
   "metadata": {},
   "source": [
    "### Question 2 \n",
    "\n",
    "You might have noticed that some of the continuous variables show some separation between classes. Try to see if there is any separation in the PCA space using just the continuous variables. "
   ]
  },
  {
   "cell_type": "markdown",
   "metadata": {},
   "source": [
    "### Question 3 \n",
    "\n",
    "Try to fit some models to this data, namely a logistic regression and a KNN (on continuous variables). Compare the performance of both against each other using a testing set. Based on your logistic regression, what variables appear to be important? Try to plot your results using the code from the tutorial or any other way you see fit. \n",
    "\n",
    "\n",
    "**Note that you shouldn't need to standardise these inputs but you can if you want - also I would recommend that you use `train_test_split` detailed at the end of the tutorial for getting the data into the training and test splits**"
   ]
  },
  {
   "cell_type": "markdown",
   "metadata": {},
   "source": [
    "### Bonus Question 4 \n",
    "\n",
    "Often, researchers will use the PCA values to fit a model. You can try this and see if it changes any of the results!"
   ]
  }
 ],
 "metadata": {
  "kernelspec": {
   "display_name": "Python 3",
   "language": "python",
   "name": "python3"
  },
  "language_info": {
   "codemirror_mode": {
    "name": "ipython",
    "version": 3
   },
   "file_extension": ".py",
   "mimetype": "text/x-python",
   "name": "python",
   "nbconvert_exporter": "python",
   "pygments_lexer": "ipython3",
   "version": "3.7.3"
  }
 },
 "nbformat": 4,
 "nbformat_minor": 2
}
