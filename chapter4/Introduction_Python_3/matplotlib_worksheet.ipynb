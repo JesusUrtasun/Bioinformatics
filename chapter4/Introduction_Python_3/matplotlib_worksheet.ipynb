{
 "cells": [
  {
   "cell_type": "markdown",
   "metadata": {},
   "source": [
    "### Worksheet \n",
    "\n",
    "The following questions will be centred around creating different plots - the answers will be entirely subjective for the most part, with how you approach the problem entirely up to personal preference. "
   ]
  },
  {
   "cell_type": "markdown",
   "metadata": {},
   "source": [
    "### Question 1\n",
    "\n",
    "Create a simple lineplot of cumulative coronavirus deaths in Ireland vs. United Kingdom using the following [data](https://raw.githubusercontent.com/CSSEGISandData/COVID-19/web-data/data/cases_time.csv). Be sure to label the x axis with dates (Last_update object). \n",
    "\n",
    "\n",
    "If this looks a little hard to read, try to adjust the scale (maybe plot on a log scale?). \n",
    "\n",
    "\n",
    "**Hint - use np.log() for transformations if using matplotlib**"
   ]
  },
  {
   "cell_type": "markdown",
   "metadata": {},
   "source": [
    "Try adding another country to this comparison - I would suggest France"
   ]
  },
  {
   "cell_type": "markdown",
   "metadata": {},
   "source": [
    "### Question 2 \n",
    "\n",
    "\n",
    "Create a gridded set of plots to visualise the relationship between sepal length and sepal width across 3 species and in all species using the iris [dataset](https://raw.githubusercontent.com/mwaskom/seaborn-data/master/iris.csv). \n",
    "\n",
    "**Note - if using matplotlib with plt.subplots, you'll have to refer to declared axes like this - \n",
    "`fig,((ax1,ax2),(ax3,ax4))=plt.subplots(2,2)` where the first set of axes (ax1 and ax2) refer to the first row and the second (ax3 and ax4) refer to the second row, and so get their own set of brackets**"
   ]
  },
  {
   "cell_type": "markdown",
   "metadata": {},
   "source": [
    "### Question 3\n",
    "\n",
    "Create a plot to visualise the differences between petal length across species."
   ]
  },
  {
   "cell_type": "markdown",
   "metadata": {},
   "source": [
    "Do the same on a different scale (log)"
   ]
  }
 ],
 "metadata": {
  "kernelspec": {
   "display_name": "Python 3",
   "language": "python",
   "name": "python3"
  },
  "language_info": {
   "codemirror_mode": {
    "name": "ipython",
    "version": 3
   },
   "file_extension": ".py",
   "mimetype": "text/x-python",
   "name": "python",
   "nbconvert_exporter": "python",
   "pygments_lexer": "ipython3",
   "version": "3.7.3"
  }
 },
 "nbformat": 4,
 "nbformat_minor": 2
}
