{
 "cells": [
  {
   "cell_type": "markdown",
   "metadata": {},
   "source": [
    "## Seaborn questions\n",
    "\n",
    "### Question 1 \n",
    "The \"flights\" dataset is available via Seaborn (it can be accessed the same way as the tips data in the examples), and consists of three columns: year, month, and passengers.\n",
    "Create a 2-by-2 grid of plots where each plot represents a quarter of the year, e.g. quarter 1 contains January, February, March. For each quarter, plot how the number of passengers per month changes over the years. Use a custom colour palette to assign different colours to each month."
   ]
  },
  {
   "cell_type": "code",
   "execution_count": null,
   "metadata": {},
   "outputs": [],
   "source": [
    "import seaborn as sns\n",
    "import pandas as pd\n",
    "import numpy as np\n",
    "import matplotlib.pyplot as plt"
   ]
  },
  {
   "cell_type": "code",
   "execution_count": null,
   "metadata": {},
   "outputs": [],
   "source": [
    "flight_data = sns.load_dataset(\"flights\")\n",
    "print(flight_data.head)"
   ]
  },
  {
   "cell_type": "code",
   "execution_count": null,
   "metadata": {
    "scrolled": true
   },
   "outputs": [],
   "source": [
    "quarter_dict={\n",
    "    \"January\": \"Q1\",\n",
    "    \"February\": \"Q1\",\n",
    "    \"March\": \"Q1\",\n",
    "    \"April\": \"Q2\",\n",
    "    \"May\": \"Q2\",\n",
    "    \"June\": \"Q2\",\n",
    "    \"July\": \"Q3\",\n",
    "    \"August\": \"Q3\",\n",
    "    \"September\": \"Q3\",\n",
    "    \"October\": \"Q4\",\n",
    "    \"November\": \"Q4\",\n",
    "    \"December\": \"Q4\",\n",
    "}\n",
    "\n",
    "palette_dict={\n",
    "    \"January\": \"red\",\n",
    "    \"February\": \"orange\",\n",
    "    \"March\": \"yellow\",\n",
    "    \"April\": \"green\",\n",
    "    \"May\": \"blue\",\n",
    "    \"June\": \"darkred\",\n",
    "    \"July\": \"violet\",\n",
    "    \"August\": \"magenta\",\n",
    "    \"September\": \"indigo\",\n",
    "    \"October\": \"darkblue\",\n",
    "    \"November\": \"darkgreen\",\n",
    "    \"December\": \"cyan\",\n",
    "}\n",
    "\n",
    "#Creating a numpy array using a list comprehenstion and the quarter_dict\n",
    "quarter_array = np.array([quarter_dict[l] for l in flight_data[\"month\"]])\n",
    "#Adding array as column to flight_data\n",
    "flight_data[\"quarter\"] = quarter_array\n",
    "\n",
    "#Main plotting function, make sure you understand what each argument is doing\n",
    "g = sns.relplot(x=\"year\", y=\"passengers\", hue=\"month\", col=\"quarter\", palette=palette_dict, col_wrap=2, kind=\"line\", data=flight_data)\n",
    "\n",
    "#Functions to tidy up the plot titles and axis labels\n",
    "g.set_titles(\"{col_name}\")\n",
    "g.set_axis_labels(\"Year\", \"# of passengers\")\n",
    "g.fig.suptitle(\"Number of passengers per month for years 1949-1960\")\n",
    "plt.subplots_adjust(top=0.9)"
   ]
  },
  {
   "cell_type": "markdown",
   "metadata": {},
   "source": [
    "### Question 2\n",
    "One of your researcher friends has asked you to help them make a figure for a poster they will be presenting. Their supervisor is colorblind, and hates plots without gridlines. Their data is available using `sns.load_dataset(\"mpg\")`, and they want two subplots in their figure:\n",
    "1. The first subplot should show the difference in the distribution of MPG in cars manufactured in USA, Japan, and Europe.\n",
    "2. The second subplot should show the relationship between horsepower and MPG for the same regions as above.\n",
    "Try and make the figure most suitable for your friend."
   ]
  },
  {
   "cell_type": "code",
   "execution_count": null,
   "metadata": {},
   "outputs": [],
   "source": [
    "mpg_data = sns.load_dataset(\"mpg\")\n",
    "mpg_data.head"
   ]
  },
  {
   "cell_type": "code",
   "execution_count": null,
   "metadata": {},
   "outputs": [],
   "source": [
    "sns.set(context=\"poster\", style=\"darkgrid\")\n",
    "eu_mpg = mpg_data[mpg_data[\"origin\"]==\"europe\"]\n",
    "usa_mpg = mpg_data[mpg_data[\"origin\"]==\"usa\"]\n",
    "japan_mpg = mpg_data[mpg_data[\"origin\"]==\"japan\"]\n",
    "fig, (ax1, ax2) = plt.subplots(1, 2, figsize = [20,10])\n",
    "\n",
    "#Creating each distribution separately on the same axes object\n",
    "sns.distplot(usa_mpg[\"mpg\"], ax=ax1, label=\"USA\", hist=False)\n",
    "sns.distplot(japan_mpg[\"mpg\"], ax=ax1, label=\"Japan\", hist=False)\n",
    "sns.distplot(eu_mpg[\"mpg\"], ax=ax1, label=\"Europe\", hist=False)\n",
    "ax1.set(xlabel=\"Miles per gallon (MPG)\")\n",
    "ax1.legend()\n",
    "#Creating the scatterplot on the second axes object\n",
    "sns.scatterplot(x=\"mpg\", y=\"horsepower\", hue=\"origin\", palette=\"colorblind\", ax=ax2, data=mpg_data, legend=False)\n",
    "ax2.set(xlabel=\"Miles per gallon (MPG)\", ylabel=\"Horsepower\")"
   ]
  }
 ],
 "metadata": {
  "kernelspec": {
   "display_name": "Python 3",
   "language": "python",
   "name": "python3"
  },
  "language_info": {
   "codemirror_mode": {
    "name": "ipython",
    "version": 3
   },
   "file_extension": ".py",
   "mimetype": "text/x-python",
   "name": "python",
   "nbconvert_exporter": "python",
   "pygments_lexer": "ipython3",
   "version": "3.7.3"
  }
 },
 "nbformat": 4,
 "nbformat_minor": 2
}
