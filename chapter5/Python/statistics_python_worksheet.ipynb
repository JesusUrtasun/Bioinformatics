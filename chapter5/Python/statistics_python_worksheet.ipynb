{
 "cells": [
  {
   "cell_type": "markdown",
   "metadata": {},
   "source": [
    "## Introduction to Statistics using Python Worksheet \n",
    "\n",
    "### Questions for Part 1\n",
    "\n",
    "**Q1.** Generate 100 observations from a normal distribution with mean=5 and sd=2.\n",
    "\n",
    "**Q2.** Use this vector to calculate mean, median, sd, variance. \n",
    "\n",
    "**Q3.** Use this vector to plot a number of visualisations including a boxplot, density plot and the Cumulative Distribution Function (CDF). \n",
    "\n",
    "**Q4.** Find the 42nd, 77th and 99th percentiles of this vector and display these percentiles on a density plot.\n",
    "\n",
    "**Q5.** Find interquartile range using this vector.\n",
    "\n",
    "**Q6.** Compute the 20th percentile along with the upper and lower quartiles of a Poisson distribution with λ = 14. \n",
    "\n",
    "**Q7.** There are 20 multiple choice questions in a test. Each question has 5 possible answers and only one of them is correct. \n",
    "\n",
    "**(i)** Find the probability of having exactly 1 correct answer if a student attempts to answer every question at random. \n",
    "\n",
    "**(ii)** Find the probability of having 5 or less correct answers if a student attempts to answer every question at random.\n",
    "\n",
    "**Q8.** There are 5 transcription-factor binding sites (TF BSs) on average in a bin/region of length 2000nt.  Find the probability of having more than 15 TF BSs in a particular bin of the same length.\n",
    "\n",
    "**Q9.** Generate 10 observations from the t-distribution.\n",
    "\n",
    "**Q10.** Find the 1st, 4th and 99th percentile of the uniform distribution with parameters: min=1 and max=6.\n",
    "\n",
    "**Q11.** Find 68%, 75% and 95% confidence intervals for a population mean, if you have this sample:\n",
    "\n",
    "sample = [-2.14, 7.21, -0.98, 2.14, 2.66, -2.48, -4.64, 3.08, -2.82, 5.84,3.17, 8.71, 6.5, 4.97, 6.08, 13.2, 10.29, 3.78, 7.2, 5.6, 3.34, \n",
    "7.67, 10.88, 5.01, 14.37, 7.64, 11.42, 10.64, 9.02, 7.9, 6.05, 11.25]"
   ]
  },
  {
   "cell_type": "markdown",
   "metadata": {},
   "source": [
    "### Questions for Part 2 \n",
    "\n",
    "**Q1.** Suppose we have gene expression data (given below) for a set of genes in two samples, one under stress condition (e.g. starvation) and the other under normal conditions i.e. untreated control samples. We want to identify whether expression of the gene changes during stress (in both directions, it could be up-regulated or down-regulated). \n",
    "\n",
    "Carry out an appropriate analysis of the data. You should plot the data in order to visualise the difference between the 2 groups, if any is present. Next you should consider what kind of test should be used, paired or unpaired and what is the hypothesis we are testing. You should also test whether the assumptions are met in order to determine whether a parametric or non-parametric test is required.\n",
    "\n",
    "df = pd.DataFrame(dict(\n",
    "\n",
    "sample=[4.63, 3.72, 3.81, 5.22, 5.19, 4.86, 5.49, 2.46, 4.43, 3.87, 4.88, 3.2, 3.64, 2.79, 4.97, 5.77, 3.08, 4.04, 4.79, 5.74], \n",
    "\n",
    "control=[2.96, 3.07, 1.13, 3.76, 1.33, 3.06, 2.19, 1.32, 2.23, 0, 0.76, 2.52, 2.18, 1.9, 3.26, 1.26, 3.22, 1.5, 1.23, 2.13]))\n",
    "\n",
    "\n",
    "**Q2.** Diffuse large B-cell lymphoma (DLBCL) is the most common subtype of non-Hodgkin lymphoma (NHL). There are two major biologically distinct molecular subtypes of DLBCL: germinal center B-cell (GCB) and activated B-cell (ABC). \n",
    "\n",
    "Suppose that we want to test whether the gene BCL-2 plays an important role with respect to discriminating DLBCL ABC from DLBCL GCB patients. We are interested in whether the expression of BCL-2 in patients with GCB type is higher than in patients with ABC. In the dataframe below there is BCL-2 expression for patients with DLBCL ABC and DLBCL GCB.\n",
    "\n",
    "Carry out an appropriate analysis of the data. You should plot the data in order to visualise the difference between the 2 groups, if any is present. Next you should consider what kind of test should be used, paired or unpaired and what is the hypothesis we are testing. You should also test whether the assumptions met in order to determine whether a parametric or non-parametric test is required.\n",
    "\n",
    "df2 = pd.DataFrame(dict(\n",
    "ABC = [1.736, 3.408, 2.54, 1.501, 1.405, 2.057, 2.924, 3.147, 2.309, 2.774, \n",
    "1.929, 1.695, 1.467, 1.61, 4.986, 1.684, 0.926, 1.163, 2.8, 1.125, \n",
    "0.8, 0.56, 1.408, 1.704, 1.724],\n",
    "\n",
    "GCB = [1.605, 1.662, 2.468, 2.231, 2.163, 1.673, 2.536, 2.41, 1.205, 4.508, \n",
    "1.475, 1.617, 1.906, 2.55, 1.55, 3.756, 6.132, 4.455, 4.448, 1.688, \n",
    "2.091, 2.312, 5.972, 4.213, 3.11]))\n",
    "\n",
    "**Q3.** Suppose you performed a genome wide association study (GWAS) for n=20 SNPs. You have got n p-values. Apply any multiple adjustment correction. How many significant p-values do you have before and after correction?\n",
    "\n",
    "p_values = [0.6082, 0.0266, 0.0174, 0.5522, 0.9615, 0.3277, 0.7874, 0.2051, 0.4608, 0.0472, 0.0164, 0.202, 0.8077, 0.1624, 0.9985, 0.0459, 0.1305, 0.2581, 0.9922, 0.2984]\n",
    "\n",
    "\n",
    "**Q4** Suppose you want to check whether there is a correlation between the expression of two genes. You have 30 samples.  Choose an appropriate test for that. To answer this question we should do a number of things. First, plot the data to be sure that it looks like there is linear dependency in the data, check normality of the data and decide the appropriate test to use. \n",
    "\n",
    "df3 = pd.DataFrame(dict(\n",
    "Gene1 = [0.089, 0.239, 0.531, 0.054, 0.625, 0.488, 0.522, 0.37, 0.347, \n",
    "        0.393, 0.513, 0.794, 0.354, 0.085, 0.144, 0.493, 0.021, 0.596,\n",
    "        0.417, 0.504, 0.597, 0.229, 0.137, 0.843, 0.37, 0.421, 0.509, \n",
    "        0.626, 0.325, 0.115],\n",
    "        \n",
    "Gene2 = [5.411, 4.206, 3.744, 4.892, 11.021, 4.03, 7.741, 3.588, 9.762, 4.765, 7.147, 12.538, 10.066, 10.245, 7.657, 6.804, 8.888, 12.123, 4.583, 3.123, 4.062, 8.963, 6.108, 6.119, 8.919, 6.634, 10.857, 6.934, 6.564, 5.296]))"
   ]
  },
  {
   "cell_type": "markdown",
   "metadata": {},
   "source": [
    "### Questions for Part 3\n",
    "\n",
    "In this question we want to see if we can predict the phenotype feature based on expression of several genes. We are going to do this by building linear regression models and comparing them. For this question\n",
    "you should produce: \n",
    "\n",
    "* Scatterplots and correlation plots to visualise data\n",
    "* A simple model containing the most promising predictor\n",
    "* A summary of the model and interpret it \n",
    "* A model incorporating all genes (predictors) at once\n",
    "* Models with different sets of predictors\n",
    "* A comparison of these models\n",
    "\n",
    "Data: data3 = pd.read_csv(\"Datasets/linreg_task.txt\", sep=\"\\t\")"
   ]
  },
  {
   "cell_type": "markdown",
   "metadata": {},
   "source": [
    "**Extra Question - Tricky** \n",
    "\n",
    "As you might recall, the T-statistic in a 2-sample T-test follows the T-distribution under the null hypothesis (H0). But how are the p-values distributed under the null hypothesis (H0)? \n",
    "\n",
    "Check it in Python using the file provided in the datasets folder. The file contains the p-values of multiple t-tests (1000 t-tests) for 2 samples distributed normally with the same parameters. Density plots and qqplots can be used to determine its distribution.\n",
    "\n",
    "p_values = pd.read_csv(\"Datasets/Ttest-pvalues\", sep=\"\\t\") "
   ]
  }
 ],
 "metadata": {
  "kernelspec": {
   "display_name": "Python 3",
   "language": "python",
   "name": "python3"
  },
  "language_info": {
   "codemirror_mode": {
    "name": "ipython",
    "version": 3
   },
   "file_extension": ".py",
   "mimetype": "text/x-python",
   "name": "python",
   "nbconvert_exporter": "python",
   "pygments_lexer": "ipython3",
   "version": "3.7.3"
  }
 },
 "nbformat": 4,
 "nbformat_minor": 2
}
